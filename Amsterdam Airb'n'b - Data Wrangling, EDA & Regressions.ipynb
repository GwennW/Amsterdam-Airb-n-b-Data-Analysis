{
 "cells": [
  {
   "cell_type": "markdown",
   "metadata": {},
   "source": [
    "# 1) Importing the usual libraries"
   ]
  },
  {
   "cell_type": "code",
   "execution_count": 3,
   "metadata": {},
   "outputs": [],
   "source": [
    "import pandas as pd\n",
    "import numpy as np\n",
    "import seaborn as sns\n",
    "import matplotlib.pyplot as plt\n",
    "%matplotlib inline"
   ]
  },
  {
   "cell_type": "markdown",
   "metadata": {},
   "source": [
    "# 2) Read the CVS file and create a pandas dataframe object "
   ]
  },
  {
   "cell_type": "code",
   "execution_count": 4,
   "metadata": {},
   "outputs": [],
   "source": [
    "df=pd.read_csv('Desktop/Data Material/airbnb prices.csv')"
   ]
  },
  {
   "cell_type": "markdown",
   "metadata": {},
   "source": [
    "# 3) Review the first 5 rooms"
   ]
  },
  {
   "cell_type": "code",
   "execution_count": 6,
   "metadata": {},
   "outputs": [
    {
     "data": {
      "text/html": [
       "<div>\n",
       "<style scoped>\n",
       "    .dataframe tbody tr th:only-of-type {\n",
       "        vertical-align: middle;\n",
       "    }\n",
       "\n",
       "    .dataframe tbody tr th {\n",
       "        vertical-align: top;\n",
       "    }\n",
       "\n",
       "    .dataframe thead th {\n",
       "        text-align: right;\n",
       "    }\n",
       "</style>\n",
       "<table border=\"1\" class=\"dataframe\">\n",
       "  <thead>\n",
       "    <tr style=\"text-align: right;\">\n",
       "      <th></th>\n",
       "      <th>room_id</th>\n",
       "      <th>survey_id</th>\n",
       "      <th>host_id</th>\n",
       "      <th>room_type</th>\n",
       "      <th>country</th>\n",
       "      <th>city</th>\n",
       "      <th>borough</th>\n",
       "      <th>neighborhood</th>\n",
       "      <th>reviews</th>\n",
       "      <th>overall_satisfaction</th>\n",
       "      <th>accommodates</th>\n",
       "      <th>bedrooms</th>\n",
       "      <th>bathrooms</th>\n",
       "      <th>price</th>\n",
       "      <th>minstay</th>\n",
       "      <th>name</th>\n",
       "      <th>last_modified</th>\n",
       "      <th>latitude</th>\n",
       "      <th>longitude</th>\n",
       "      <th>location</th>\n",
       "    </tr>\n",
       "  </thead>\n",
       "  <tbody>\n",
       "    <tr>\n",
       "      <th>0</th>\n",
       "      <td>10176931</td>\n",
       "      <td>1476</td>\n",
       "      <td>49180562</td>\n",
       "      <td>Shared room</td>\n",
       "      <td>NaN</td>\n",
       "      <td>Amsterdam</td>\n",
       "      <td>NaN</td>\n",
       "      <td>De Pijp / Rivierenbuurt</td>\n",
       "      <td>7</td>\n",
       "      <td>4.5</td>\n",
       "      <td>2</td>\n",
       "      <td>1.0</td>\n",
       "      <td>NaN</td>\n",
       "      <td>156.0</td>\n",
       "      <td>NaN</td>\n",
       "      <td>Red Light/ Canal view apartment (Shared)</td>\n",
       "      <td>2017-07-23 13:06:27.391699</td>\n",
       "      <td>52.356209</td>\n",
       "      <td>4.887491</td>\n",
       "      <td>0101000020E610000033FAD170CA8C13403BC5AA41982D...</td>\n",
       "    </tr>\n",
       "    <tr>\n",
       "      <th>1</th>\n",
       "      <td>8935871</td>\n",
       "      <td>1476</td>\n",
       "      <td>46718394</td>\n",
       "      <td>Shared room</td>\n",
       "      <td>NaN</td>\n",
       "      <td>Amsterdam</td>\n",
       "      <td>NaN</td>\n",
       "      <td>Centrum West</td>\n",
       "      <td>45</td>\n",
       "      <td>4.5</td>\n",
       "      <td>4</td>\n",
       "      <td>1.0</td>\n",
       "      <td>NaN</td>\n",
       "      <td>126.0</td>\n",
       "      <td>NaN</td>\n",
       "      <td>Sunny and Cozy Living room in quite neighbours</td>\n",
       "      <td>2017-07-23 13:06:23.607187</td>\n",
       "      <td>52.378518</td>\n",
       "      <td>4.896120</td>\n",
       "      <td>0101000020E6100000842A357BA095134042791F477330...</td>\n",
       "    </tr>\n",
       "    <tr>\n",
       "      <th>2</th>\n",
       "      <td>14011697</td>\n",
       "      <td>1476</td>\n",
       "      <td>10346595</td>\n",
       "      <td>Shared room</td>\n",
       "      <td>NaN</td>\n",
       "      <td>Amsterdam</td>\n",
       "      <td>NaN</td>\n",
       "      <td>Watergraafsmeer</td>\n",
       "      <td>1</td>\n",
       "      <td>0.0</td>\n",
       "      <td>3</td>\n",
       "      <td>1.0</td>\n",
       "      <td>NaN</td>\n",
       "      <td>132.0</td>\n",
       "      <td>NaN</td>\n",
       "      <td>Amsterdam</td>\n",
       "      <td>2017-07-23 13:06:23.603546</td>\n",
       "      <td>52.338811</td>\n",
       "      <td>4.943592</td>\n",
       "      <td>0101000020E6100000A51133FB3CC613403543AA285E2B...</td>\n",
       "    </tr>\n",
       "    <tr>\n",
       "      <th>3</th>\n",
       "      <td>6137978</td>\n",
       "      <td>1476</td>\n",
       "      <td>8685430</td>\n",
       "      <td>Shared room</td>\n",
       "      <td>NaN</td>\n",
       "      <td>Amsterdam</td>\n",
       "      <td>NaN</td>\n",
       "      <td>Centrum West</td>\n",
       "      <td>7</td>\n",
       "      <td>5.0</td>\n",
       "      <td>4</td>\n",
       "      <td>1.0</td>\n",
       "      <td>NaN</td>\n",
       "      <td>121.0</td>\n",
       "      <td>NaN</td>\n",
       "      <td>Canal boat RIDE in Amsterdam</td>\n",
       "      <td>2017-07-23 13:06:22.689787</td>\n",
       "      <td>52.376319</td>\n",
       "      <td>4.890028</td>\n",
       "      <td>0101000020E6100000DF180280638F134085EE92382B30...</td>\n",
       "    </tr>\n",
       "    <tr>\n",
       "      <th>4</th>\n",
       "      <td>18630616</td>\n",
       "      <td>1476</td>\n",
       "      <td>70191803</td>\n",
       "      <td>Shared room</td>\n",
       "      <td>NaN</td>\n",
       "      <td>Amsterdam</td>\n",
       "      <td>NaN</td>\n",
       "      <td>De Baarsjes / Oud West</td>\n",
       "      <td>1</td>\n",
       "      <td>0.0</td>\n",
       "      <td>2</td>\n",
       "      <td>1.0</td>\n",
       "      <td>NaN</td>\n",
       "      <td>93.0</td>\n",
       "      <td>NaN</td>\n",
       "      <td>One room for rent in a three room appartment</td>\n",
       "      <td>2017-07-23 13:06:19.681469</td>\n",
       "      <td>52.370384</td>\n",
       "      <td>4.852873</td>\n",
       "      <td>0101000020E6100000CD902A8A57691340187B2FBE682F...</td>\n",
       "    </tr>\n",
       "  </tbody>\n",
       "</table>\n",
       "</div>"
      ],
      "text/plain": [
       "    room_id  survey_id   host_id    room_type  country       city  borough  \\\n",
       "0  10176931       1476  49180562  Shared room      NaN  Amsterdam      NaN   \n",
       "1   8935871       1476  46718394  Shared room      NaN  Amsterdam      NaN   \n",
       "2  14011697       1476  10346595  Shared room      NaN  Amsterdam      NaN   \n",
       "3   6137978       1476   8685430  Shared room      NaN  Amsterdam      NaN   \n",
       "4  18630616       1476  70191803  Shared room      NaN  Amsterdam      NaN   \n",
       "\n",
       "              neighborhood  reviews  overall_satisfaction  accommodates  \\\n",
       "0  De Pijp / Rivierenbuurt        7                   4.5             2   \n",
       "1             Centrum West       45                   4.5             4   \n",
       "2          Watergraafsmeer        1                   0.0             3   \n",
       "3             Centrum West        7                   5.0             4   \n",
       "4   De Baarsjes / Oud West        1                   0.0             2   \n",
       "\n",
       "   bedrooms  bathrooms  price  minstay  \\\n",
       "0       1.0        NaN  156.0      NaN   \n",
       "1       1.0        NaN  126.0      NaN   \n",
       "2       1.0        NaN  132.0      NaN   \n",
       "3       1.0        NaN  121.0      NaN   \n",
       "4       1.0        NaN   93.0      NaN   \n",
       "\n",
       "                                             name               last_modified  \\\n",
       "0        Red Light/ Canal view apartment (Shared)  2017-07-23 13:06:27.391699   \n",
       "1  Sunny and Cozy Living room in quite neighbours  2017-07-23 13:06:23.607187   \n",
       "2                                       Amsterdam  2017-07-23 13:06:23.603546   \n",
       "3                    Canal boat RIDE in Amsterdam  2017-07-23 13:06:22.689787   \n",
       "4    One room for rent in a three room appartment  2017-07-23 13:06:19.681469   \n",
       "\n",
       "    latitude  longitude                                           location  \n",
       "0  52.356209   4.887491  0101000020E610000033FAD170CA8C13403BC5AA41982D...  \n",
       "1  52.378518   4.896120  0101000020E6100000842A357BA095134042791F477330...  \n",
       "2  52.338811   4.943592  0101000020E6100000A51133FB3CC613403543AA285E2B...  \n",
       "3  52.376319   4.890028  0101000020E6100000DF180280638F134085EE92382B30...  \n",
       "4  52.370384   4.852873  0101000020E6100000CD902A8A57691340187B2FBE682F...  "
      ]
     },
     "execution_count": 6,
     "metadata": {},
     "output_type": "execute_result"
    }
   ],
   "source": [
    "df.head(5)"
   ]
  },
  {
   "cell_type": "markdown",
   "metadata": {},
   "source": [
    "# 4) What are the room_type available? "
   ]
  },
  {
   "cell_type": "code",
   "execution_count": 8,
   "metadata": {},
   "outputs": [
    {
     "data": {
      "text/plain": [
       "array(['Shared room', 'Entire home/apt', 'Private room'], dtype=object)"
      ]
     },
     "execution_count": 8,
     "metadata": {},
     "output_type": "execute_result"
    }
   ],
   "source": [
    "df['room_type'].unique()"
   ]
  },
  {
   "cell_type": "markdown",
   "metadata": {},
   "source": [
    "# 5) Drop the shared room type as its count is too low compared to the others"
   ]
  },
  {
   "cell_type": "code",
   "execution_count": 6,
   "metadata": {},
   "outputs": [],
   "source": [
    "df=df[df['room_type']!='Shared room']"
   ]
  },
  {
   "cell_type": "code",
   "execution_count": 7,
   "metadata": {},
   "outputs": [
    {
     "data": {
      "text/plain": [
       "array(['Entire home/apt', 'Private room'], dtype=object)"
      ]
     },
     "execution_count": 7,
     "metadata": {},
     "output_type": "execute_result"
    }
   ],
   "source": [
    "df['room_type'].unique()"
   ]
  },
  {
   "cell_type": "markdown",
   "metadata": {},
   "source": [
    "# 6) Take a count of each neighborhood to show how popular they are with regards to airb'n'b appartment number"
   ]
  },
  {
   "cell_type": "code",
   "execution_count": 9,
   "metadata": {},
   "outputs": [
    {
     "data": {
      "text/plain": [
       "neighborhood\n",
       "De Baarsjes / Oud West                    3289\n",
       "De Pijp / Rivierenbuurt                   2378\n",
       "Centrum West                              2225\n",
       "Centrum Oost                              1730\n",
       "Westerpark                                1430\n",
       "Noord-West / Noord-Midden                 1418\n",
       "Oud Oost                                  1169\n",
       "Bos en Lommer                              988\n",
       "Oostelijk Havengebied / Indische Buurt     921\n",
       "Watergraafsmeer                            517\n",
       "Oud Noord                                  494\n",
       "Ijburg / Eiland Zeeburg                    378\n",
       "Slotervaart                                349\n",
       "Buitenveldert / Zuidas                     250\n",
       "Noord West                                 241\n",
       "Noord Oost                                 221\n",
       "Geuzenveld / Slotermeer                    195\n",
       "Osdorp                                     163\n",
       "De Aker / Nieuw Sloten                     114\n",
       "Bijlmer Centrum                             99\n",
       "Bijlmer Oost                                97\n",
       "Gaasperdam / Driemond                       42\n",
       "Westpoort                                   15\n",
       "Name: room_id, dtype: int64"
      ]
     },
     "execution_count": 9,
     "metadata": {},
     "output_type": "execute_result"
    }
   ],
   "source": [
    "df.groupby('neighborhood')['room_id'].count().sort_values(ascending=False)"
   ]
  },
  {
   "cell_type": "markdown",
   "metadata": {},
   "source": [
    "# 7) Find out about the number of reviews per rooms"
   ]
  },
  {
   "cell_type": "code",
   "execution_count": 9,
   "metadata": {},
   "outputs": [
    {
     "data": {
      "text/plain": [
       "reviews\n",
       "0      2975\n",
       "1      1500\n",
       "2      1238\n",
       "3      1100\n",
       "4       924\n",
       "5       874\n",
       "6       737\n",
       "7       680\n",
       "8       589\n",
       "9       527\n",
       "11      497\n",
       "10      474\n",
       "12      395\n",
       "14      362\n",
       "13      340\n",
       "15      308\n",
       "16      300\n",
       "17      261\n",
       "18      236\n",
       "20      226\n",
       "19      213\n",
       "21      189\n",
       "22      166\n",
       "23      158\n",
       "24      153\n",
       "27      137\n",
       "25      133\n",
       "26      125\n",
       "28      112\n",
       "29      112\n",
       "       ... \n",
       "191       1\n",
       "183       1\n",
       "276       1\n",
       "180       1\n",
       "179       1\n",
       "177       1\n",
       "176       1\n",
       "166       1\n",
       "161       1\n",
       "465       1\n",
       "212       1\n",
       "215       1\n",
       "218       1\n",
       "220       1\n",
       "274       1\n",
       "272       1\n",
       "265       1\n",
       "254       1\n",
       "253       1\n",
       "247       1\n",
       "242       1\n",
       "240       1\n",
       "238       1\n",
       "235       1\n",
       "231       1\n",
       "230       1\n",
       "228       1\n",
       "225       1\n",
       "223       1\n",
       "532       1\n",
       "Name: room_id, Length: 283, dtype: int64"
      ]
     },
     "execution_count": 9,
     "metadata": {},
     "output_type": "execute_result"
    }
   ],
   "source": [
    "df.groupby('reviews')['room_id'].count().sort_values(ascending=False)"
   ]
  },
  {
   "cell_type": "markdown",
   "metadata": {},
   "source": [
    "# 8) What is the overall satisfaction count for each rating?"
   ]
  },
  {
   "cell_type": "code",
   "execution_count": 10,
   "metadata": {},
   "outputs": [
    {
     "data": {
      "text/plain": [
       "overall_satisfaction\n",
       "5.0    7708\n",
       "0.0    5748\n",
       "4.5    4559\n",
       "4.0     577\n",
       "3.5     109\n",
       "3.0      19\n",
       "2.5       1\n",
       "1.5       1\n",
       "1.0       1\n",
       "Name: room_id, dtype: int64"
      ]
     },
     "execution_count": 10,
     "metadata": {},
     "output_type": "execute_result"
    }
   ],
   "source": [
    "df.groupby('overall_satisfaction')['room_id'].count().sort_values(ascending=False)"
   ]
  },
  {
   "cell_type": "markdown",
   "metadata": {},
   "source": [
    "# 9) Create a sub dataset where the overall satisfaction is 0"
   ]
  },
  {
   "cell_type": "code",
   "execution_count": 12,
   "metadata": {},
   "outputs": [],
   "source": [
    "satisfaction_0=df[df['overall_satisfaction']==0]"
   ]
  },
  {
   "cell_type": "code",
   "execution_count": 13,
   "metadata": {},
   "outputs": [
    {
     "data": {
      "text/html": [
       "<div>\n",
       "<style scoped>\n",
       "    .dataframe tbody tr th:only-of-type {\n",
       "        vertical-align: middle;\n",
       "    }\n",
       "\n",
       "    .dataframe tbody tr th {\n",
       "        vertical-align: top;\n",
       "    }\n",
       "\n",
       "    .dataframe thead th {\n",
       "        text-align: right;\n",
       "    }\n",
       "</style>\n",
       "<table border=\"1\" class=\"dataframe\">\n",
       "  <thead>\n",
       "    <tr style=\"text-align: right;\">\n",
       "      <th></th>\n",
       "      <th>room_id</th>\n",
       "      <th>survey_id</th>\n",
       "      <th>host_id</th>\n",
       "      <th>country</th>\n",
       "      <th>borough</th>\n",
       "      <th>reviews</th>\n",
       "      <th>overall_satisfaction</th>\n",
       "      <th>accommodates</th>\n",
       "      <th>bedrooms</th>\n",
       "      <th>bathrooms</th>\n",
       "      <th>price</th>\n",
       "      <th>minstay</th>\n",
       "      <th>latitude</th>\n",
       "      <th>longitude</th>\n",
       "    </tr>\n",
       "  </thead>\n",
       "  <tbody>\n",
       "    <tr>\n",
       "      <th>count</th>\n",
       "      <td>5.748000e+03</td>\n",
       "      <td>5748.0</td>\n",
       "      <td>5.748000e+03</td>\n",
       "      <td>0.0</td>\n",
       "      <td>0.0</td>\n",
       "      <td>5748.000000</td>\n",
       "      <td>5748.0</td>\n",
       "      <td>5748.000000</td>\n",
       "      <td>5748.000000</td>\n",
       "      <td>0.0</td>\n",
       "      <td>5748.000000</td>\n",
       "      <td>0.0</td>\n",
       "      <td>5748.000000</td>\n",
       "      <td>5748.000000</td>\n",
       "    </tr>\n",
       "    <tr>\n",
       "      <th>mean</th>\n",
       "      <td>1.472271e+07</td>\n",
       "      <td>1476.0</td>\n",
       "      <td>4.675185e+07</td>\n",
       "      <td>NaN</td>\n",
       "      <td>NaN</td>\n",
       "      <td>0.702157</td>\n",
       "      <td>0.0</td>\n",
       "      <td>3.024530</td>\n",
       "      <td>1.552018</td>\n",
       "      <td>NaN</td>\n",
       "      <td>175.313848</td>\n",
       "      <td>NaN</td>\n",
       "      <td>52.364367</td>\n",
       "      <td>4.889485</td>\n",
       "    </tr>\n",
       "    <tr>\n",
       "      <th>std</th>\n",
       "      <td>5.206503e+06</td>\n",
       "      <td>0.0</td>\n",
       "      <td>4.424354e+07</td>\n",
       "      <td>NaN</td>\n",
       "      <td>NaN</td>\n",
       "      <td>0.814230</td>\n",
       "      <td>0.0</td>\n",
       "      <td>1.367903</td>\n",
       "      <td>0.947871</td>\n",
       "      <td>NaN</td>\n",
       "      <td>139.889247</td>\n",
       "      <td>NaN</td>\n",
       "      <td>0.015782</td>\n",
       "      <td>0.036738</td>\n",
       "    </tr>\n",
       "    <tr>\n",
       "      <th>min</th>\n",
       "      <td>2.542800e+04</td>\n",
       "      <td>1476.0</td>\n",
       "      <td>2.234000e+03</td>\n",
       "      <td>NaN</td>\n",
       "      <td>NaN</td>\n",
       "      <td>0.000000</td>\n",
       "      <td>0.0</td>\n",
       "      <td>1.000000</td>\n",
       "      <td>0.000000</td>\n",
       "      <td>NaN</td>\n",
       "      <td>18.000000</td>\n",
       "      <td>NaN</td>\n",
       "      <td>52.296200</td>\n",
       "      <td>4.771083</td>\n",
       "    </tr>\n",
       "    <tr>\n",
       "      <th>25%</th>\n",
       "      <td>1.151526e+07</td>\n",
       "      <td>1476.0</td>\n",
       "      <td>9.748668e+06</td>\n",
       "      <td>NaN</td>\n",
       "      <td>NaN</td>\n",
       "      <td>0.000000</td>\n",
       "      <td>0.0</td>\n",
       "      <td>2.000000</td>\n",
       "      <td>1.000000</td>\n",
       "      <td>NaN</td>\n",
       "      <td>114.000000</td>\n",
       "      <td>NaN</td>\n",
       "      <td>52.353980</td>\n",
       "      <td>4.862770</td>\n",
       "    </tr>\n",
       "    <tr>\n",
       "      <th>50%</th>\n",
       "      <td>1.642867e+07</td>\n",
       "      <td>1476.0</td>\n",
       "      <td>2.966417e+07</td>\n",
       "      <td>NaN</td>\n",
       "      <td>NaN</td>\n",
       "      <td>0.000000</td>\n",
       "      <td>0.0</td>\n",
       "      <td>2.000000</td>\n",
       "      <td>1.000000</td>\n",
       "      <td>NaN</td>\n",
       "      <td>150.000000</td>\n",
       "      <td>NaN</td>\n",
       "      <td>52.363571</td>\n",
       "      <td>4.886525</td>\n",
       "    </tr>\n",
       "    <tr>\n",
       "      <th>75%</th>\n",
       "      <td>1.917368e+07</td>\n",
       "      <td>1476.0</td>\n",
       "      <td>7.653772e+07</td>\n",
       "      <td>NaN</td>\n",
       "      <td>NaN</td>\n",
       "      <td>1.000000</td>\n",
       "      <td>0.0</td>\n",
       "      <td>4.000000</td>\n",
       "      <td>2.000000</td>\n",
       "      <td>NaN</td>\n",
       "      <td>205.000000</td>\n",
       "      <td>NaN</td>\n",
       "      <td>52.374174</td>\n",
       "      <td>4.909833</td>\n",
       "    </tr>\n",
       "    <tr>\n",
       "      <th>max</th>\n",
       "      <td>2.000373e+07</td>\n",
       "      <td>1476.0</td>\n",
       "      <td>1.418319e+08</td>\n",
       "      <td>NaN</td>\n",
       "      <td>NaN</td>\n",
       "      <td>5.000000</td>\n",
       "      <td>0.0</td>\n",
       "      <td>16.000000</td>\n",
       "      <td>10.000000</td>\n",
       "      <td>NaN</td>\n",
       "      <td>6000.000000</td>\n",
       "      <td>NaN</td>\n",
       "      <td>52.424980</td>\n",
       "      <td>5.013075</td>\n",
       "    </tr>\n",
       "  </tbody>\n",
       "</table>\n",
       "</div>"
      ],
      "text/plain": [
       "            room_id  survey_id       host_id  country  borough      reviews  \\\n",
       "count  5.748000e+03     5748.0  5.748000e+03      0.0      0.0  5748.000000   \n",
       "mean   1.472271e+07     1476.0  4.675185e+07      NaN      NaN     0.702157   \n",
       "std    5.206503e+06        0.0  4.424354e+07      NaN      NaN     0.814230   \n",
       "min    2.542800e+04     1476.0  2.234000e+03      NaN      NaN     0.000000   \n",
       "25%    1.151526e+07     1476.0  9.748668e+06      NaN      NaN     0.000000   \n",
       "50%    1.642867e+07     1476.0  2.966417e+07      NaN      NaN     0.000000   \n",
       "75%    1.917368e+07     1476.0  7.653772e+07      NaN      NaN     1.000000   \n",
       "max    2.000373e+07     1476.0  1.418319e+08      NaN      NaN     5.000000   \n",
       "\n",
       "       overall_satisfaction  accommodates     bedrooms  bathrooms  \\\n",
       "count                5748.0   5748.000000  5748.000000        0.0   \n",
       "mean                    0.0      3.024530     1.552018        NaN   \n",
       "std                     0.0      1.367903     0.947871        NaN   \n",
       "min                     0.0      1.000000     0.000000        NaN   \n",
       "25%                     0.0      2.000000     1.000000        NaN   \n",
       "50%                     0.0      2.000000     1.000000        NaN   \n",
       "75%                     0.0      4.000000     2.000000        NaN   \n",
       "max                     0.0     16.000000    10.000000        NaN   \n",
       "\n",
       "             price  minstay     latitude    longitude  \n",
       "count  5748.000000      0.0  5748.000000  5748.000000  \n",
       "mean    175.313848      NaN    52.364367     4.889485  \n",
       "std     139.889247      NaN     0.015782     0.036738  \n",
       "min      18.000000      NaN    52.296200     4.771083  \n",
       "25%     114.000000      NaN    52.353980     4.862770  \n",
       "50%     150.000000      NaN    52.363571     4.886525  \n",
       "75%     205.000000      NaN    52.374174     4.909833  \n",
       "max    6000.000000      NaN    52.424980     5.013075  "
      ]
     },
     "execution_count": 13,
     "metadata": {},
     "output_type": "execute_result"
    }
   ],
   "source": [
    "satisfaction_0.describe()"
   ]
  },
  {
   "cell_type": "markdown",
   "metadata": {},
   "source": [
    "# 10) What is the satisfaction ratings count where the total number of bedrooms is 3?"
   ]
  },
  {
   "cell_type": "code",
   "execution_count": 14,
   "metadata": {},
   "outputs": [
    {
     "data": {
      "text/plain": [
       "1444"
      ]
     },
     "execution_count": 14,
     "metadata": {},
     "output_type": "execute_result"
    }
   ],
   "source": [
    "df[df['bedrooms']==3]['overall_satisfaction'].count()"
   ]
  },
  {
   "cell_type": "markdown",
   "metadata": {},
   "source": [
    "# 11) What is the satisfaction ratings count where the total number of bedrooms is 2?"
   ]
  },
  {
   "cell_type": "code",
   "execution_count": 15,
   "metadata": {},
   "outputs": [
    {
     "data": {
      "text/plain": [
       "4456"
      ]
     },
     "execution_count": 15,
     "metadata": {},
     "output_type": "execute_result"
    }
   ],
   "source": [
    "df[df['bedrooms']==2]['overall_satisfaction'].count()"
   ]
  },
  {
   "cell_type": "markdown",
   "metadata": {},
   "source": [
    "# 12) What is the satisfaction ratings count where the price is beween 150 and 180?"
   ]
  },
  {
   "cell_type": "code",
   "execution_count": 16,
   "metadata": {},
   "outputs": [
    {
     "data": {
      "text/plain": [
       "3809"
      ]
     },
     "execution_count": 16,
     "metadata": {},
     "output_type": "execute_result"
    }
   ],
   "source": [
    "df.loc[(df['price']>=150) & (df['price']<=180)]['overall_satisfaction'].count()"
   ]
  },
  {
   "cell_type": "markdown",
   "metadata": {},
   "source": [
    "# 13) Create a copy of the dataframe and impute the value 4 wherever the satisfaction count is 0?"
   ]
  },
  {
   "cell_type": "code",
   "execution_count": 17,
   "metadata": {},
   "outputs": [],
   "source": [
    "df_copy=df.copy()"
   ]
  },
  {
   "cell_type": "code",
   "execution_count": 18,
   "metadata": {},
   "outputs": [],
   "source": [
    "df_copy['overall_satisfaction']=np.where(df_copy['overall_satisfaction']==0,4,df_copy['overall_satisfaction'])"
   ]
  },
  {
   "cell_type": "code",
   "execution_count": 19,
   "metadata": {},
   "outputs": [
    {
     "data": {
      "text/plain": [
       "array([4.5, 4. , 5. , 1.5, 3.5, 2.5, 3. , 1. ])"
      ]
     },
     "execution_count": 19,
     "metadata": {},
     "output_type": "execute_result"
    }
   ],
   "source": [
    "df_copy['overall_satisfaction'].unique()"
   ]
  },
  {
   "cell_type": "markdown",
   "metadata": {},
   "source": [
    "# 14) Find out the count of each accomodation value to understand where the most availability is?"
   ]
  },
  {
   "cell_type": "code",
   "execution_count": 21,
   "metadata": {},
   "outputs": [
    {
     "data": {
      "text/plain": [
       "price\n",
       "119.0    1023\n",
       "180.0    1001\n",
       "144.0     887\n",
       "150.0     621\n",
       "132.0     588\n",
       "         ... \n",
       "392.0       1\n",
       "373.0       1\n",
       "371.0       1\n",
       "369.0       1\n",
       "12.0        1\n",
       "Name: room_id, Length: 423, dtype: int64"
      ]
     },
     "execution_count": 21,
     "metadata": {},
     "output_type": "execute_result"
    }
   ],
   "source": [
    "df.groupby('price')['room_id'].count().sort_values(ascending=False)"
   ]
  },
  {
   "cell_type": "markdown",
   "metadata": {},
   "source": [
    "# 15) What is the proportion of each bedroom values in overall bedroom values"
   ]
  },
  {
   "cell_type": "code",
   "execution_count": 23,
   "metadata": {},
   "outputs": [],
   "source": [
    "df['price_per_room']=df['price']/df['bedrooms']"
   ]
  },
  {
   "cell_type": "code",
   "execution_count": 24,
   "metadata": {},
   "outputs": [
    {
     "data": {
      "text/plain": [
       "0        156.0\n",
       "1        126.0\n",
       "2        132.0\n",
       "3        121.0\n",
       "4         93.0\n",
       "         ...  \n",
       "18718     32.0\n",
       "18719     24.0\n",
       "18720     38.0\n",
       "18721     36.0\n",
       "18722     35.0\n",
       "Name: price_per_room, Length: 18723, dtype: float64"
      ]
     },
     "execution_count": 24,
     "metadata": {},
     "output_type": "execute_result"
    }
   ],
   "source": [
    "df['price_per_room']"
   ]
  },
  {
   "cell_type": "code",
   "execution_count": 28,
   "metadata": {},
   "outputs": [
    {
     "data": {
      "text/plain": [
       "room_type\n",
       "Entire home/apt          inf\n",
       "Private room             inf\n",
       "Shared room        103.68254\n",
       "Name: price_per_room, dtype: float64"
      ]
     },
     "execution_count": 28,
     "metadata": {},
     "output_type": "execute_result"
    }
   ],
   "source": [
    "df.groupby('room_type').mean()['price_per_room']"
   ]
  },
  {
   "cell_type": "markdown",
   "metadata": {},
   "source": [
    "# 16) Drop the values where bedroom are equal to zero"
   ]
  },
  {
   "cell_type": "code",
   "execution_count": 23,
   "metadata": {},
   "outputs": [],
   "source": [
    "df=df[df['bedrooms']!=0]"
   ]
  },
  {
   "cell_type": "markdown",
   "metadata": {},
   "source": [
    "# 17) Count the number of bedrooms now that the null values have been removed?"
   ]
  },
  {
   "cell_type": "code",
   "execution_count": 24,
   "metadata": {},
   "outputs": [
    {
     "data": {
      "text/plain": [
       "17506"
      ]
     },
     "execution_count": 24,
     "metadata": {},
     "output_type": "execute_result"
    }
   ],
   "source": [
    "df['bedrooms'].count()"
   ]
  },
  {
   "cell_type": "code",
   "execution_count": 25,
   "metadata": {},
   "outputs": [
    {
     "data": {
      "text/html": [
       "<div>\n",
       "<style scoped>\n",
       "    .dataframe tbody tr th:only-of-type {\n",
       "        vertical-align: middle;\n",
       "    }\n",
       "\n",
       "    .dataframe tbody tr th {\n",
       "        vertical-align: top;\n",
       "    }\n",
       "\n",
       "    .dataframe thead th {\n",
       "        text-align: right;\n",
       "    }\n",
       "</style>\n",
       "<table border=\"1\" class=\"dataframe\">\n",
       "  <thead>\n",
       "    <tr style=\"text-align: right;\">\n",
       "      <th></th>\n",
       "      <th>room_id</th>\n",
       "      <th>survey_id</th>\n",
       "      <th>host_id</th>\n",
       "      <th>country</th>\n",
       "      <th>borough</th>\n",
       "      <th>reviews</th>\n",
       "      <th>overall_satisfaction</th>\n",
       "      <th>accommodates</th>\n",
       "      <th>bedrooms</th>\n",
       "      <th>bathrooms</th>\n",
       "      <th>price</th>\n",
       "      <th>minstay</th>\n",
       "      <th>latitude</th>\n",
       "      <th>longitude</th>\n",
       "      <th>price_per_room</th>\n",
       "    </tr>\n",
       "  </thead>\n",
       "  <tbody>\n",
       "    <tr>\n",
       "      <th>count</th>\n",
       "      <td>1.750600e+04</td>\n",
       "      <td>17506.0</td>\n",
       "      <td>1.750600e+04</td>\n",
       "      <td>0.0</td>\n",
       "      <td>0.0</td>\n",
       "      <td>17506.000000</td>\n",
       "      <td>17506.000000</td>\n",
       "      <td>17506.000000</td>\n",
       "      <td>17506.000000</td>\n",
       "      <td>0.0</td>\n",
       "      <td>17506.000000</td>\n",
       "      <td>0.0</td>\n",
       "      <td>17506.000000</td>\n",
       "      <td>17506.000000</td>\n",
       "      <td>17506.000000</td>\n",
       "    </tr>\n",
       "    <tr>\n",
       "      <th>mean</th>\n",
       "      <td>1.108287e+07</td>\n",
       "      <td>1476.0</td>\n",
       "      <td>3.509582e+07</td>\n",
       "      <td>NaN</td>\n",
       "      <td>NaN</td>\n",
       "      <td>16.368959</td>\n",
       "      <td>3.302868</td>\n",
       "      <td>2.960642</td>\n",
       "      <td>1.526220</td>\n",
       "      <td>NaN</td>\n",
       "      <td>169.137267</td>\n",
       "      <td>NaN</td>\n",
       "      <td>52.365207</td>\n",
       "      <td>4.888416</td>\n",
       "      <td>120.942720</td>\n",
       "    </tr>\n",
       "    <tr>\n",
       "      <th>std</th>\n",
       "      <td>6.080450e+06</td>\n",
       "      <td>0.0</td>\n",
       "      <td>3.710345e+07</td>\n",
       "      <td>NaN</td>\n",
       "      <td>NaN</td>\n",
       "      <td>32.796906</td>\n",
       "      <td>2.215583</td>\n",
       "      <td>1.333545</td>\n",
       "      <td>0.825627</td>\n",
       "      <td>NaN</td>\n",
       "      <td>111.009236</td>\n",
       "      <td>NaN</td>\n",
       "      <td>0.015112</td>\n",
       "      <td>0.034722</td>\n",
       "      <td>77.845518</td>\n",
       "    </tr>\n",
       "    <tr>\n",
       "      <th>min</th>\n",
       "      <td>2.818000e+03</td>\n",
       "      <td>1476.0</td>\n",
       "      <td>2.234000e+03</td>\n",
       "      <td>NaN</td>\n",
       "      <td>NaN</td>\n",
       "      <td>0.000000</td>\n",
       "      <td>0.000000</td>\n",
       "      <td>1.000000</td>\n",
       "      <td>1.000000</td>\n",
       "      <td>NaN</td>\n",
       "      <td>12.000000</td>\n",
       "      <td>NaN</td>\n",
       "      <td>52.296200</td>\n",
       "      <td>4.763264</td>\n",
       "      <td>12.000000</td>\n",
       "    </tr>\n",
       "    <tr>\n",
       "      <th>25%</th>\n",
       "      <td>5.923722e+06</td>\n",
       "      <td>1476.0</td>\n",
       "      <td>7.004309e+06</td>\n",
       "      <td>NaN</td>\n",
       "      <td>NaN</td>\n",
       "      <td>2.000000</td>\n",
       "      <td>0.000000</td>\n",
       "      <td>2.000000</td>\n",
       "      <td>1.000000</td>\n",
       "      <td>NaN</td>\n",
       "      <td>113.000000</td>\n",
       "      <td>NaN</td>\n",
       "      <td>52.355178</td>\n",
       "      <td>4.863899</td>\n",
       "      <td>84.000000</td>\n",
       "    </tr>\n",
       "    <tr>\n",
       "      <th>50%</th>\n",
       "      <td>1.210997e+07</td>\n",
       "      <td>1476.0</td>\n",
       "      <td>1.956281e+07</td>\n",
       "      <td>NaN</td>\n",
       "      <td>NaN</td>\n",
       "      <td>6.000000</td>\n",
       "      <td>4.500000</td>\n",
       "      <td>2.000000</td>\n",
       "      <td>1.000000</td>\n",
       "      <td>NaN</td>\n",
       "      <td>144.000000</td>\n",
       "      <td>NaN</td>\n",
       "      <td>52.364507</td>\n",
       "      <td>4.885528</td>\n",
       "      <td>114.000000</td>\n",
       "    </tr>\n",
       "    <tr>\n",
       "      <th>75%</th>\n",
       "      <td>1.643984e+07</td>\n",
       "      <td>1476.0</td>\n",
       "      <td>5.089235e+07</td>\n",
       "      <td>NaN</td>\n",
       "      <td>NaN</td>\n",
       "      <td>17.000000</td>\n",
       "      <td>5.000000</td>\n",
       "      <td>4.000000</td>\n",
       "      <td>2.000000</td>\n",
       "      <td>NaN</td>\n",
       "      <td>196.000000</td>\n",
       "      <td>NaN</td>\n",
       "      <td>52.374604</td>\n",
       "      <td>4.907448</td>\n",
       "      <td>144.000000</td>\n",
       "    </tr>\n",
       "    <tr>\n",
       "      <th>max</th>\n",
       "      <td>2.000373e+07</td>\n",
       "      <td>1476.0</td>\n",
       "      <td>1.418319e+08</td>\n",
       "      <td>NaN</td>\n",
       "      <td>NaN</td>\n",
       "      <td>532.000000</td>\n",
       "      <td>5.000000</td>\n",
       "      <td>17.000000</td>\n",
       "      <td>10.000000</td>\n",
       "      <td>NaN</td>\n",
       "      <td>6000.000000</td>\n",
       "      <td>NaN</td>\n",
       "      <td>52.424980</td>\n",
       "      <td>5.027689</td>\n",
       "      <td>6000.000000</td>\n",
       "    </tr>\n",
       "  </tbody>\n",
       "</table>\n",
       "</div>"
      ],
      "text/plain": [
       "            room_id  survey_id       host_id  country  borough       reviews  \\\n",
       "count  1.750600e+04    17506.0  1.750600e+04      0.0      0.0  17506.000000   \n",
       "mean   1.108287e+07     1476.0  3.509582e+07      NaN      NaN     16.368959   \n",
       "std    6.080450e+06        0.0  3.710345e+07      NaN      NaN     32.796906   \n",
       "min    2.818000e+03     1476.0  2.234000e+03      NaN      NaN      0.000000   \n",
       "25%    5.923722e+06     1476.0  7.004309e+06      NaN      NaN      2.000000   \n",
       "50%    1.210997e+07     1476.0  1.956281e+07      NaN      NaN      6.000000   \n",
       "75%    1.643984e+07     1476.0  5.089235e+07      NaN      NaN     17.000000   \n",
       "max    2.000373e+07     1476.0  1.418319e+08      NaN      NaN    532.000000   \n",
       "\n",
       "       overall_satisfaction  accommodates      bedrooms  bathrooms  \\\n",
       "count          17506.000000  17506.000000  17506.000000        0.0   \n",
       "mean               3.302868      2.960642      1.526220        NaN   \n",
       "std                2.215583      1.333545      0.825627        NaN   \n",
       "min                0.000000      1.000000      1.000000        NaN   \n",
       "25%                0.000000      2.000000      1.000000        NaN   \n",
       "50%                4.500000      2.000000      1.000000        NaN   \n",
       "75%                5.000000      4.000000      2.000000        NaN   \n",
       "max                5.000000     17.000000     10.000000        NaN   \n",
       "\n",
       "              price  minstay      latitude     longitude  price_per_room  \n",
       "count  17506.000000      0.0  17506.000000  17506.000000    17506.000000  \n",
       "mean     169.137267      NaN     52.365207      4.888416      120.942720  \n",
       "std      111.009236      NaN      0.015112      0.034722       77.845518  \n",
       "min       12.000000      NaN     52.296200      4.763264       12.000000  \n",
       "25%      113.000000      NaN     52.355178      4.863899       84.000000  \n",
       "50%      144.000000      NaN     52.364507      4.885528      114.000000  \n",
       "75%      196.000000      NaN     52.374604      4.907448      144.000000  \n",
       "max     6000.000000      NaN     52.424980      5.027689     6000.000000  "
      ]
     },
     "execution_count": 25,
     "metadata": {},
     "output_type": "execute_result"
    }
   ],
   "source": [
    "df.describe()"
   ]
  },
  {
   "cell_type": "markdown",
   "metadata": {},
   "source": [
    "# 18) Plot an histogram of reviews where bins are 20 and the range is between 0 and 100"
   ]
  },
  {
   "cell_type": "code",
   "execution_count": 29,
   "metadata": {},
   "outputs": [],
   "source": [
    "reviews_up_to_100=df.loc[(df['reviews']>0) & (df['reviews']<100)]"
   ]
  },
  {
   "cell_type": "code",
   "execution_count": 30,
   "metadata": {},
   "outputs": [
    {
     "data": {
      "text/plain": [
       "Text(0.5, 1.0, 'Distribution of Airbnbs with 0 to 100 reviews')"
      ]
     },
     "execution_count": 30,
     "metadata": {},
     "output_type": "execute_result"
    },
    {
     "data": {
      "image/png": "[encoded data removed]",
      "text/plain": [
       "<Figure size 432x288 with 1 Axes>"
      ]
     },
     "metadata": {
      "needs_background": "light"
     },
     "output_type": "display_data"
    }
   ],
   "source": [
    "sns.distplot(reviews_up_to_100['reviews'],bins=20)\n",
    "plt.title('Distribution of Airbnbs with 0 to 100 reviews',fontsize=20)"
   ]
  },
  {
   "cell_type": "markdown",
   "metadata": {},
   "source": [
    "# 19) Plot an histogram of reviews where bins are 20 and the range is between 0 and 1000"
   ]
  },
  {
   "cell_type": "code",
   "execution_count": 31,
   "metadata": {},
   "outputs": [],
   "source": [
    "reviews_up_to_1000=df.loc[(df['reviews']>0) & (df['reviews']<1000)]"
   ]
  },
  {
   "cell_type": "code",
   "execution_count": 32,
   "metadata": {},
   "outputs": [
    {
     "data": {
      "text/plain": [
       "Text(0.5, 1.0, 'Distribution of Airbnbs with 0 to 1000 reviews')"
      ]
     },
     "execution_count": 32,
     "metadata": {},
     "output_type": "execute_result"
    },
    {
     "data": {
      "image/png": "[encoded data removed]",
      "text/plain": [
       "<Figure size 432x288 with 1 Axes>"
      ]
     },
     "metadata": {
      "needs_background": "light"
     },
     "output_type": "display_data"
    }
   ],
   "source": [
    "sns.distplot(reviews_up_to_1000['reviews'],bins=20)\n",
    "plt.title('Distribution of Airbnbs with 0 to 1000 reviews',fontsize=20)"
   ]
  },
  {
   "cell_type": "markdown",
   "metadata": {},
   "source": [
    "# 20) Plot an histogram of accomodates where bins are 16"
   ]
  },
  {
   "cell_type": "code",
   "execution_count": 30,
   "metadata": {},
   "outputs": [
    {
     "name": "stderr",
     "output_type": "stream",
     "text": [
      "C:\\Users\\Gwenn\\Anaconda3\\lib\\site-packages\\scipy\\stats\\stats.py:1713: FutureWarning: Using a non-tuple sequence for multidimensional indexing is deprecated; use `arr[tuple(seq)]` instead of `arr[seq]`. In the future this will be interpreted as an array index, `arr[np.array(seq)]`, which will result either in an error or a different result.\n",
      "  return np.add.reduce(sorted[indexer] * weights, axis=axis) / sumval\n"
     ]
    },
    {
     "data": {
      "text/plain": [
       "Text(0.5,1,'Distribution of accomodates')"
      ]
     },
     "execution_count": 30,
     "metadata": {},
     "output_type": "execute_result"
    },
    {
     "data": {
      "image/png": "[encoded data removed]",
      "text/plain": [
       "<Figure size 432x288 with 1 Axes>"
      ]
     },
     "metadata": {
      "needs_background": "light"
     },
     "output_type": "display_data"
    }
   ],
   "source": [
    "sns.distplot(df['accommodates'],bins=16)\n",
    "plt.title('Distribution of accomodates',fontsize=20)"
   ]
  },
  {
   "cell_type": "markdown",
   "metadata": {},
   "source": [
    "# 21) Plot a histogram of overall satisfaction"
   ]
  },
  {
   "cell_type": "code",
   "execution_count": 31,
   "metadata": {},
   "outputs": [
    {
     "data": {
      "text/plain": [
       "Text(0.5,0,'Overall Satisfaction')"
      ]
     },
     "execution_count": 31,
     "metadata": {},
     "output_type": "execute_result"
    },
    {
     "data": {
      "image/png": "[encoded data removed]",
      "text/plain": [
       "<Figure size 864x576 with 1 Axes>"
      ]
     },
     "metadata": {},
     "output_type": "display_data"
    }
   ],
   "source": [
    "sns.set_style('dark')\n",
    "plt.figure(figsize=(12,8))\n",
    "df['overall_satisfaction'].plot(kind='hist',color='g',alpha=0.3)\n",
    "plt.title('Overall Satisfaction Distribution',fontsize=18)\n",
    "plt.xlabel('Overall Satisfaction',fontsize=15)"
   ]
  },
  {
   "cell_type": "markdown",
   "metadata": {},
   "source": [
    "# 22) Plot a histogram of overall satisfaction where the price is equal t0 100 and 200"
   ]
  },
  {
   "cell_type": "code",
   "execution_count": 32,
   "metadata": {},
   "outputs": [
    {
     "data": {
      "text/plain": [
       "Text(0.5,0,'Overall Satisfaction')"
      ]
     },
     "execution_count": 32,
     "metadata": {},
     "output_type": "execute_result"
    },
    {
     "data": {
      "image/png": "[encoded data removed]",
      "text/plain": [
       "<Figure size 432x288 with 1 Axes>"
      ]
     },
     "metadata": {},
     "output_type": "display_data"
    }
   ],
   "source": [
    "df.loc[(df['price']>=100) & (df['price']<=200)]['overall_satisfaction'].plot(kind='hist')\n",
    "plt.title('Overall Satisfaction Distribution for places between 100 and 200€',fontsize=18)\n",
    "plt.xlabel('Overall Satisfaction',fontsize=15)"
   ]
  },
  {
   "cell_type": "markdown",
   "metadata": {},
   "source": [
    "# 23) Plot a histogram of overall satisfaction where the price is under 50"
   ]
  },
  {
   "cell_type": "code",
   "execution_count": 33,
   "metadata": {},
   "outputs": [
    {
     "data": {
      "text/plain": [
       "Text(0.5,0,'Overall Satisfaction')"
      ]
     },
     "execution_count": 33,
     "metadata": {},
     "output_type": "execute_result"
    },
    {
     "data": {
      "image/png": "[encoded data removed]",
      "text/plain": [
       "<Figure size 432x288 with 1 Axes>"
      ]
     },
     "metadata": {},
     "output_type": "display_data"
    }
   ],
   "source": [
    "\n",
    "df[df['price']<50]['overall_satisfaction'].plot(kind='hist')\n",
    "plt.title('Overall Satisfaction Distribution for places under 50€',fontsize=18)\n",
    "plt.xlabel('Overall Satisfaction',fontsize=15)"
   ]
  },
  {
   "cell_type": "markdown",
   "metadata": {},
   "source": [
    "# 24) Plot a histogram of overall satisfaction where the price is greater than 200"
   ]
  },
  {
   "cell_type": "code",
   "execution_count": 33,
   "metadata": {},
   "outputs": [
    {
     "data": {
      "text/plain": [
       "Text(0.5, 0, 'Overall Satisfaction')"
      ]
     },
     "execution_count": 33,
     "metadata": {},
     "output_type": "execute_result"
    },
    {
     "data": {
      "image/png": "[encoded data removed]",
      "text/plain": [
       "<Figure size 432x288 with 1 Axes>"
      ]
     },
     "metadata": {
      "needs_background": "light"
     },
     "output_type": "display_data"
    }
   ],
   "source": [
    "df[df['price']>200]['overall_satisfaction'].plot(kind='hist')\n",
    "plt.title('Overall Satisfaction Distribution for places above 200€',fontsize=18)\n",
    "plt.xlabel('Overall Satisfaction',fontsize=15)"
   ]
  },
  {
   "cell_type": "markdown",
   "metadata": {},
   "source": [
    "# 25) Plot a histogram of overall satisfaction where the price is greater than 300"
   ]
  },
  {
   "cell_type": "code",
   "execution_count": 35,
   "metadata": {},
   "outputs": [
    {
     "data": {
      "text/plain": [
       "Text(0.5,0,'Overall Satisfaction')"
      ]
     },
     "execution_count": 35,
     "metadata": {},
     "output_type": "execute_result"
    },
    {
     "data": {
      "image/png": "[encoded data removed]",
      "text/plain": [
       "<Figure size 432x288 with 1 Axes>"
      ]
     },
     "metadata": {},
     "output_type": "display_data"
    }
   ],
   "source": [
    "df[df['price']>300]['overall_satisfaction'].plot(kind='hist')\n",
    "plt.title('Overall Satisfaction Distribution for places above 300€',fontsize=18)\n",
    "plt.xlabel('Overall Satisfaction',fontsize=15)"
   ]
  },
  {
   "cell_type": "markdown",
   "metadata": {},
   "source": [
    "# 26) Is there a relationship between price and reviews?"
   ]
  },
  {
   "cell_type": "code",
   "execution_count": 39,
   "metadata": {},
   "outputs": [
    {
     "data": {
      "text/plain": [
       "<matplotlib.axes._subplots.AxesSubplot at 0x264fdc27c08>"
      ]
     },
     "execution_count": 39,
     "metadata": {},
     "output_type": "execute_result"
    },
    {
     "data": {
      "image/png": "[encoded data removed]",
      "text/plain": [
       "<Figure size 432x288 with 2 Axes>"
      ]
     },
     "metadata": {
      "needs_background": "light"
     },
     "output_type": "display_data"
    }
   ],
   "source": [
    "sns.heatmap(df[['reviews','price']].corr(),annot=True)"
   ]
  },
  {
   "cell_type": "code",
   "execution_count": 35,
   "metadata": {},
   "outputs": [
    {
     "data": {
      "text/plain": [
       "Text(0.5, 1.0, 'Price vs Reviews')"
      ]
     },
     "execution_count": 35,
     "metadata": {},
     "output_type": "execute_result"
    },
    {
     "data": {
      "image/png": "[encoded data removed]",
      "text/plain": [
       "<Figure size 432x288 with 1 Axes>"
      ]
     },
     "metadata": {
      "needs_background": "light"
     },
     "output_type": "display_data"
    }
   ],
   "source": [
    "sns.regplot(x=df['reviews'],y=df['price'],data=df)\n",
    "plt.title('Price vs Reviews',fontsize=20)"
   ]
  },
  {
   "cell_type": "markdown",
   "metadata": {},
   "source": [
    "The above plot looks more like a Pareto distribution than anything"
   ]
  },
  {
   "cell_type": "markdown",
   "metadata": {},
   "source": [
    "# 27) Is there a relationship between price and accomodates?"
   ]
  },
  {
   "cell_type": "code",
   "execution_count": 42,
   "metadata": {},
   "outputs": [
    {
     "data": {
      "text/plain": [
       "<matplotlib.axes._subplots.AxesSubplot at 0x264fdd0f248>"
      ]
     },
     "execution_count": 42,
     "metadata": {},
     "output_type": "execute_result"
    },
    {
     "data": {
      "image/png": "[encoded data removed]",
      "text/plain": [
       "<Figure size 432x288 with 2 Axes>"
      ]
     },
     "metadata": {
      "needs_background": "light"
     },
     "output_type": "display_data"
    }
   ],
   "source": [
    "sns.heatmap(df[['accommodates','price']].corr(),annot=True)"
   ]
  },
  {
   "cell_type": "markdown",
   "metadata": {},
   "source": [
    "There seems to be a low to moderate relationship between the two variables"
   ]
  },
  {
   "cell_type": "code",
   "execution_count": 43,
   "metadata": {},
   "outputs": [
    {
     "data": {
      "text/plain": [
       "Text(0.5, 1.0, 'Accomodates vs Reviews')"
      ]
     },
     "execution_count": 43,
     "metadata": {},
     "output_type": "execute_result"
    },
    {
     "data": {
      "image/png": "[encoded data removed]",
      "text/plain": [
       "<Figure size 432x288 with 1 Axes>"
      ]
     },
     "metadata": {
      "needs_background": "light"
     },
     "output_type": "display_data"
    }
   ],
   "source": [
    "sns.scatterplot(x=df['accommodates'],y=df['price'],data=df)\n",
    "plt.title('Accomodates vs Reviews',fontsize=20)"
   ]
  },
  {
   "cell_type": "markdown",
   "metadata": {},
   "source": [
    "# 28) Is there a relationship between Bedroom and accomodates?"
   ]
  },
  {
   "cell_type": "code",
   "execution_count": 45,
   "metadata": {},
   "outputs": [
    {
     "data": {
      "text/plain": [
       "<matplotlib.axes._subplots.AxesSubplot at 0x264fde8eac8>"
      ]
     },
     "execution_count": 45,
     "metadata": {},
     "output_type": "execute_result"
    },
    {
     "data": {
      "image/png": "[encoded data removed]",
      "text/plain": [
       "<Figure size 432x288 with 2 Axes>"
      ]
     },
     "metadata": {
      "needs_background": "light"
     },
     "output_type": "display_data"
    }
   ],
   "source": [
    "sns.heatmap(df[['bedrooms','price']].corr(),annot=True)"
   ]
  },
  {
   "cell_type": "markdown",
   "metadata": {},
   "source": [
    "Same as above there seems to be a low to moderate relationship between the two variables given the correlation coefficient of 0.45"
   ]
  },
  {
   "cell_type": "code",
   "execution_count": 47,
   "metadata": {},
   "outputs": [
    {
     "data": {
      "text/plain": [
       "Text(0.5, 1.0, 'Bedrooms vs Reviews')"
      ]
     },
     "execution_count": 47,
     "metadata": {},
     "output_type": "execute_result"
    },
    {
     "data": {
      "image/png": "[encoded data removed]",
      "text/plain": [
       "<Figure size 432x288 with 1 Axes>"
      ]
     },
     "metadata": {
      "needs_background": "light"
     },
     "output_type": "display_data"
    }
   ],
   "source": [
    "sns.scatterplot(x=df['bedrooms'],y=df['price'],data=df)\n",
    "plt.title('Bedrooms vs Reviews',fontsize=20)"
   ]
  },
  {
   "cell_type": "markdown",
   "metadata": {},
   "source": [
    "# 29) Is there a relationship between price and overall satisfaction?"
   ]
  },
  {
   "cell_type": "code",
   "execution_count": 49,
   "metadata": {},
   "outputs": [
    {
     "data": {
      "text/plain": [
       "<matplotlib.axes._subplots.AxesSubplot at 0x264fdf7d788>"
      ]
     },
     "execution_count": 49,
     "metadata": {},
     "output_type": "execute_result"
    },
    {
     "data": {
      "image/png": "[encoded data removed]",
      "text/plain": [
       "<Figure size 432x288 with 2 Axes>"
      ]
     },
     "metadata": {
      "needs_background": "light"
     },
     "output_type": "display_data"
    }
   ],
   "source": [
    "sns.heatmap(df[['overall_satisfaction','price']].corr(),annot=True)"
   ]
  },
  {
   "cell_type": "markdown",
   "metadata": {},
   "source": [
    "there seems to be no satisfaction between the price and overall satisfaction given the low correlation coefficient"
   ]
  },
  {
   "cell_type": "markdown",
   "metadata": {},
   "source": [
    "# 30)Plot the count of each registered neighborhood to understand in where to find the most availibility"
   ]
  },
  {
   "cell_type": "code",
   "execution_count": 50,
   "metadata": {},
   "outputs": [
    {
     "data": {
      "text/plain": [
       "Text(0.5, 1.0, 'Availibility per neighboorhood')"
      ]
     },
     "execution_count": 50,
     "metadata": {},
     "output_type": "execute_result"
    },
    {
     "data": {
      "image/png": "[encoded data removed]",
      "text/plain": [
       "<Figure size 1080x864 with 1 Axes>"
      ]
     },
     "metadata": {
      "needs_background": "light"
     },
     "output_type": "display_data"
    }
   ],
   "source": [
    "plt.figure(figsize=(15,12))\n",
    "df.groupby('neighborhood')['room_id'].count().sort_values(ascending=True).plot.barh()\n",
    "plt.yticks(fontsize=18)\n",
    "plt.title('Availibility per neighboorhood',fontsize=25)"
   ]
  },
  {
   "cell_type": "markdown",
   "metadata": {},
   "source": [
    "# 31)Remove the rows from the dataset where price is less than 1500"
   ]
  },
  {
   "cell_type": "code",
   "execution_count": 51,
   "metadata": {},
   "outputs": [],
   "source": [
    "df_above_1500=df[df['price']>1500]"
   ]
  },
  {
   "cell_type": "code",
   "execution_count": 52,
   "metadata": {},
   "outputs": [
    {
     "data": {
      "text/html": [
       "<div>\n",
       "<style scoped>\n",
       "    .dataframe tbody tr th:only-of-type {\n",
       "        vertical-align: middle;\n",
       "    }\n",
       "\n",
       "    .dataframe tbody tr th {\n",
       "        vertical-align: top;\n",
       "    }\n",
       "\n",
       "    .dataframe thead th {\n",
       "        text-align: right;\n",
       "    }\n",
       "</style>\n",
       "<table border=\"1\" class=\"dataframe\">\n",
       "  <thead>\n",
       "    <tr style=\"text-align: right;\">\n",
       "      <th></th>\n",
       "      <th>room_id</th>\n",
       "      <th>survey_id</th>\n",
       "      <th>host_id</th>\n",
       "      <th>room_type</th>\n",
       "      <th>country</th>\n",
       "      <th>city</th>\n",
       "      <th>borough</th>\n",
       "      <th>neighborhood</th>\n",
       "      <th>reviews</th>\n",
       "      <th>overall_satisfaction</th>\n",
       "      <th>...</th>\n",
       "      <th>bedrooms</th>\n",
       "      <th>bathrooms</th>\n",
       "      <th>price</th>\n",
       "      <th>minstay</th>\n",
       "      <th>name</th>\n",
       "      <th>last_modified</th>\n",
       "      <th>latitude</th>\n",
       "      <th>longitude</th>\n",
       "      <th>location</th>\n",
       "      <th>price_per_room</th>\n",
       "    </tr>\n",
       "  </thead>\n",
       "  <tbody>\n",
       "    <tr>\n",
       "      <th>178</th>\n",
       "      <td>12837950</td>\n",
       "      <td>1476</td>\n",
       "      <td>22855069</td>\n",
       "      <td>Entire home/apt</td>\n",
       "      <td>NaN</td>\n",
       "      <td>Amsterdam</td>\n",
       "      <td>NaN</td>\n",
       "      <td>Westerpark</td>\n",
       "      <td>0</td>\n",
       "      <td>0.0</td>\n",
       "      <td>...</td>\n",
       "      <td>1.0</td>\n",
       "      <td>NaN</td>\n",
       "      <td>6000.0</td>\n",
       "      <td>NaN</td>\n",
       "      <td>Zonnige woonboot,centraal en rustig</td>\n",
       "      <td>2017-07-23 06:22:10.340921</td>\n",
       "      <td>52.373990</td>\n",
       "      <td>4.873597</td>\n",
       "      <td>0101000020E6100000EC884336907E1340F98381E7DE2F...</td>\n",
       "      <td>6000.000000</td>\n",
       "    </tr>\n",
       "    <tr>\n",
       "      <th>179</th>\n",
       "      <td>17377934</td>\n",
       "      <td>1476</td>\n",
       "      <td>117439187</td>\n",
       "      <td>Entire home/apt</td>\n",
       "      <td>NaN</td>\n",
       "      <td>Amsterdam</td>\n",
       "      <td>NaN</td>\n",
       "      <td>Geuzenveld / Slotermeer</td>\n",
       "      <td>0</td>\n",
       "      <td>0.0</td>\n",
       "      <td>...</td>\n",
       "      <td>2.0</td>\n",
       "      <td>NaN</td>\n",
       "      <td>1799.0</td>\n",
       "      <td>NaN</td>\n",
       "      <td>Welkom in noordzijde</td>\n",
       "      <td>2017-07-23 06:22:10.339020</td>\n",
       "      <td>52.371958</td>\n",
       "      <td>4.821506</td>\n",
       "      <td>0101000020E610000001DF6DDE3849134027BEDA519C2F...</td>\n",
       "      <td>899.500000</td>\n",
       "    </tr>\n",
       "    <tr>\n",
       "      <th>180</th>\n",
       "      <td>15626614</td>\n",
       "      <td>1476</td>\n",
       "      <td>60409350</td>\n",
       "      <td>Entire home/apt</td>\n",
       "      <td>NaN</td>\n",
       "      <td>Amsterdam</td>\n",
       "      <td>NaN</td>\n",
       "      <td>Centrum Oost</td>\n",
       "      <td>0</td>\n",
       "      <td>0.0</td>\n",
       "      <td>...</td>\n",
       "      <td>1.0</td>\n",
       "      <td>NaN</td>\n",
       "      <td>3770.0</td>\n",
       "      <td>NaN</td>\n",
       "      <td>One public bedroom</td>\n",
       "      <td>2017-07-23 06:22:10.336066</td>\n",
       "      <td>52.371641</td>\n",
       "      <td>4.901265</td>\n",
       "      <td>0101000020E6100000261E5036E59A1340266DAAEE912F...</td>\n",
       "      <td>3770.000000</td>\n",
       "    </tr>\n",
       "    <tr>\n",
       "      <th>181</th>\n",
       "      <td>16344025</td>\n",
       "      <td>1476</td>\n",
       "      <td>104389329</td>\n",
       "      <td>Entire home/apt</td>\n",
       "      <td>NaN</td>\n",
       "      <td>Amsterdam</td>\n",
       "      <td>NaN</td>\n",
       "      <td>Centrum West</td>\n",
       "      <td>6</td>\n",
       "      <td>5.0</td>\n",
       "      <td>...</td>\n",
       "      <td>7.0</td>\n",
       "      <td>NaN</td>\n",
       "      <td>1920.0</td>\n",
       "      <td>NaN</td>\n",
       "      <td>AmsterdamBase</td>\n",
       "      <td>2017-07-23 06:22:10.333495</td>\n",
       "      <td>52.372837</td>\n",
       "      <td>4.898500</td>\n",
       "      <td>0101000020E6100000F2D24D62109813408FDE701FB92F...</td>\n",
       "      <td>274.285714</td>\n",
       "    </tr>\n",
       "    <tr>\n",
       "      <th>182</th>\n",
       "      <td>19408111</td>\n",
       "      <td>1476</td>\n",
       "      <td>47078997</td>\n",
       "      <td>Entire home/apt</td>\n",
       "      <td>NaN</td>\n",
       "      <td>Amsterdam</td>\n",
       "      <td>NaN</td>\n",
       "      <td>Centrum West</td>\n",
       "      <td>0</td>\n",
       "      <td>0.0</td>\n",
       "      <td>...</td>\n",
       "      <td>3.0</td>\n",
       "      <td>NaN</td>\n",
       "      <td>1558.0</td>\n",
       "      <td>NaN</td>\n",
       "      <td>Ultra luxe dreamboat, unforgettable stay promi...</td>\n",
       "      <td>2017-07-23 06:22:10.330886</td>\n",
       "      <td>52.372894</td>\n",
       "      <td>4.899198</td>\n",
       "      <td>0101000020E6100000B2834A5CC7981340F46F97FDBA2F...</td>\n",
       "      <td>519.333333</td>\n",
       "    </tr>\n",
       "  </tbody>\n",
       "</table>\n",
       "<p>5 rows × 21 columns</p>\n",
       "</div>"
      ],
      "text/plain": [
       "      room_id  survey_id    host_id        room_type  country       city  \\\n",
       "178  12837950       1476   22855069  Entire home/apt      NaN  Amsterdam   \n",
       "179  17377934       1476  117439187  Entire home/apt      NaN  Amsterdam   \n",
       "180  15626614       1476   60409350  Entire home/apt      NaN  Amsterdam   \n",
       "181  16344025       1476  104389329  Entire home/apt      NaN  Amsterdam   \n",
       "182  19408111       1476   47078997  Entire home/apt      NaN  Amsterdam   \n",
       "\n",
       "     borough             neighborhood  reviews  overall_satisfaction  ...  \\\n",
       "178      NaN               Westerpark        0                   0.0  ...   \n",
       "179      NaN  Geuzenveld / Slotermeer        0                   0.0  ...   \n",
       "180      NaN             Centrum Oost        0                   0.0  ...   \n",
       "181      NaN             Centrum West        6                   5.0  ...   \n",
       "182      NaN             Centrum West        0                   0.0  ...   \n",
       "\n",
       "     bedrooms  bathrooms   price  minstay  \\\n",
       "178       1.0        NaN  6000.0      NaN   \n",
       "179       2.0        NaN  1799.0      NaN   \n",
       "180       1.0        NaN  3770.0      NaN   \n",
       "181       7.0        NaN  1920.0      NaN   \n",
       "182       3.0        NaN  1558.0      NaN   \n",
       "\n",
       "                                                  name  \\\n",
       "178                Zonnige woonboot,centraal en rustig   \n",
       "179                               Welkom in noordzijde   \n",
       "180                                 One public bedroom   \n",
       "181                                      AmsterdamBase   \n",
       "182  Ultra luxe dreamboat, unforgettable stay promi...   \n",
       "\n",
       "                  last_modified   latitude  longitude  \\\n",
       "178  2017-07-23 06:22:10.340921  52.373990   4.873597   \n",
       "179  2017-07-23 06:22:10.339020  52.371958   4.821506   \n",
       "180  2017-07-23 06:22:10.336066  52.371641   4.901265   \n",
       "181  2017-07-23 06:22:10.333495  52.372837   4.898500   \n",
       "182  2017-07-23 06:22:10.330886  52.372894   4.899198   \n",
       "\n",
       "                                              location price_per_room  \n",
       "178  0101000020E6100000EC884336907E1340F98381E7DE2F...    6000.000000  \n",
       "179  0101000020E610000001DF6DDE3849134027BEDA519C2F...     899.500000  \n",
       "180  0101000020E6100000261E5036E59A1340266DAAEE912F...    3770.000000  \n",
       "181  0101000020E6100000F2D24D62109813408FDE701FB92F...     274.285714  \n",
       "182  0101000020E6100000B2834A5CC7981340F46F97FDBA2F...     519.333333  \n",
       "\n",
       "[5 rows x 21 columns]"
      ]
     },
     "execution_count": 52,
     "metadata": {},
     "output_type": "execute_result"
    }
   ],
   "source": [
    "df_above_1500"
   ]
  },
  {
   "cell_type": "markdown",
   "metadata": {},
   "source": [
    "# 32) Import the revelant libraries from splitting the data and to implement a Linear Regression"
   ]
  },
  {
   "cell_type": "code",
   "execution_count": 64,
   "metadata": {},
   "outputs": [],
   "source": [
    "from sklearn.model_selection import train_test_split\n",
    "from sklearn.linear_model import LinearRegression"
   ]
  },
  {
   "cell_type": "markdown",
   "metadata": {},
   "source": [
    "# 33) Create the X parameters by taking the review, satisfaction, accomodates and bedrooms columns. The price column would be the dependent variable"
   ]
  },
  {
   "cell_type": "code",
   "execution_count": 65,
   "metadata": {},
   "outputs": [],
   "source": [
    "X=df[['reviews','overall_satisfaction','accommodates','bedrooms']]\n",
    "y=df['price']"
   ]
  },
  {
   "cell_type": "markdown",
   "metadata": {},
   "source": [
    "# 34) Split the data in train and test by holding 30% of the dataset for testing"
   ]
  },
  {
   "cell_type": "code",
   "execution_count": 66,
   "metadata": {},
   "outputs": [],
   "source": [
    "X_train,X_test,y_train,y_test=train_test_split(X,y,test_size=0.3,random_state=42)"
   ]
  },
  {
   "cell_type": "markdown",
   "metadata": {},
   "source": [
    "# 35) Fit the Linear Regression"
   ]
  },
  {
   "cell_type": "code",
   "execution_count": 67,
   "metadata": {},
   "outputs": [],
   "source": [
    "linreg=LinearRegression()"
   ]
  },
  {
   "cell_type": "code",
   "execution_count": 68,
   "metadata": {},
   "outputs": [
    {
     "data": {
      "text/plain": [
       "LinearRegression(copy_X=True, fit_intercept=True, n_jobs=None, normalize=False)"
      ]
     },
     "execution_count": 68,
     "metadata": {},
     "output_type": "execute_result"
    }
   ],
   "source": [
    "linreg.fit(X_train,y_train)"
   ]
  },
  {
   "cell_type": "markdown",
   "metadata": {},
   "source": [
    "# 36) Apply the prediction on the dependent variable"
   ]
  },
  {
   "cell_type": "code",
   "execution_count": 69,
   "metadata": {},
   "outputs": [],
   "source": [
    "y_pred=linreg.predict(X_test)"
   ]
  },
  {
   "cell_type": "markdown",
   "metadata": {},
   "source": [
    "# 37) Import the MAE,MSE and R2 Score from the metrics Library"
   ]
  },
  {
   "cell_type": "code",
   "execution_count": 70,
   "metadata": {},
   "outputs": [],
   "source": [
    "from sklearn import metrics\n",
    "from sklearn.metrics import r2_score,mean_squared_error,mean_absolute_error"
   ]
  },
  {
   "cell_type": "code",
   "execution_count": 71,
   "metadata": {},
   "outputs": [
    {
     "name": "stdout",
     "output_type": "stream",
     "text": [
      "R2 Score: 0.34256977000090016\n",
      "Absolute Mean Error: 49.584501865169194\n",
      "Mean Squared Error: 5605.378990357677\n",
      "Root Mean Squarred Error: 74.86907900033015\n"
     ]
    }
   ],
   "source": [
    "print('R2 Score:',r2_score(y_test,y_pred))\n",
    "print('Absolute Mean Error:',metrics.mean_absolute_error(y_test,y_pred))\n",
    "print('Mean Squared Error:',metrics.mean_squared_error(y_test,y_pred))\n",
    "print('Root Mean Squarred Error:',np.sqrt(metrics.mean_squared_error(y_test,y_pred)))"
   ]
  },
  {
   "cell_type": "markdown",
   "metadata": {},
   "source": [
    "# 38) Import the Decision Tree Regressor from sklearn library"
   ]
  },
  {
   "cell_type": "code",
   "execution_count": 72,
   "metadata": {},
   "outputs": [],
   "source": [
    "from sklearn.tree import DecisionTreeRegressor"
   ]
  },
  {
   "cell_type": "markdown",
   "metadata": {},
   "source": [
    "# 39) Initialize and fit the decision tree and training data"
   ]
  },
  {
   "cell_type": "code",
   "execution_count": 73,
   "metadata": {},
   "outputs": [],
   "source": [
    "tree=DecisionTreeRegressor()"
   ]
  },
  {
   "cell_type": "code",
   "execution_count": 74,
   "metadata": {},
   "outputs": [
    {
     "data": {
      "text/plain": [
       "DecisionTreeRegressor(ccp_alpha=0.0, criterion='mse', max_depth=None,\n",
       "                      max_features=None, max_leaf_nodes=None,\n",
       "                      min_impurity_decrease=0.0, min_impurity_split=None,\n",
       "                      min_samples_leaf=1, min_samples_split=2,\n",
       "                      min_weight_fraction_leaf=0.0, presort='deprecated',\n",
       "                      random_state=None, splitter='best')"
      ]
     },
     "execution_count": 74,
     "metadata": {},
     "output_type": "execute_result"
    }
   ],
   "source": [
    "tree.fit(X_train,y_train)"
   ]
  },
  {
   "cell_type": "markdown",
   "metadata": {},
   "source": [
    "# 40) Predict the values on the test data and store the results in the y_pred variable"
   ]
  },
  {
   "cell_type": "code",
   "execution_count": 75,
   "metadata": {},
   "outputs": [],
   "source": [
    "y_tree_pred=tree.predict(X_test)"
   ]
  },
  {
   "cell_type": "markdown",
   "metadata": {},
   "source": [
    "# 41) Identify the RMSE value and compare it to the Linear Regression"
   ]
  },
  {
   "cell_type": "code",
   "execution_count": 76,
   "metadata": {},
   "outputs": [
    {
     "name": "stdout",
     "output_type": "stream",
     "text": [
      "Tree Root Mean Squared Error: 85.01075711201726\n"
     ]
    }
   ],
   "source": [
    "print('Tree Root Mean Squared Error:',np.sqrt(metrics.mean_squared_error(y_test,y_tree_pred)))"
   ]
  },
  {
   "cell_type": "code",
   "execution_count": 77,
   "metadata": {},
   "outputs": [],
   "source": [
    "regressors=[['Linear Regression:',LinearRegression()],\n",
    "            ['Decision Tree Regressor:',DecisionTreeRegressor()]]"
   ]
  },
  {
   "cell_type": "code",
   "execution_count": 78,
   "metadata": {},
   "outputs": [],
   "source": [
    "df_predictions=pd.DataFrame()\n",
    "df_predictions['actual_labels']=y_test"
   ]
  },
  {
   "cell_type": "code",
   "execution_count": 79,
   "metadata": {},
   "outputs": [
    {
     "name": "stdout",
     "output_type": "stream",
     "text": [
      "\n",
      "\n",
      "------ Linear Regression: -----\n",
      "\n",
      "\n",
      "R2 Score: 0.34256977000090016\n",
      "RMSE: 74.86907900033015\n",
      "\n",
      "\n",
      "------ Decision Tree Regressor: -----\n",
      "\n",
      "\n",
      "R2 Score: 0.1601784799672431\n",
      "RMSE: 84.61963646785651\n"
     ]
    }
   ],
   "source": [
    "for name,regressor in regressors:\n",
    "    regressor=regressor\n",
    "    regressor.fit(X_train,y_train)\n",
    "    y_pred=regressor.predict(X_test)\n",
    "    df_predictions[name.strip(':')]=y_test\n",
    "    print('\\n')\n",
    "    print('------',name,'-----')\n",
    "    print('\\n')\n",
    "    print('R2 Score:',r2_score(y_test,y_pred))\n",
    "    print('RMSE:',np.sqrt(metrics.mean_squared_error(y_test,y_pred)))"
   ]
  },
  {
   "cell_type": "markdown",
   "metadata": {},
   "source": [
    "# 42) Import the Cross Validation Score from the sklearn.model_selection and run the cross validation score on Linear Regression for 10 cross validation"
   ]
  },
  {
   "cell_type": "code",
   "execution_count": 84,
   "metadata": {},
   "outputs": [],
   "source": [
    "from sklearn.model_selection import cross_val_score\n",
    "lin_reg_score=cross_val_score(LinearRegression(),X,y,cv=10)"
   ]
  },
  {
   "cell_type": "code",
   "execution_count": 87,
   "metadata": {},
   "outputs": [
    {
     "name": "stdout",
     "output_type": "stream",
     "text": [
      "\n",
      "\n",
      "--- Linear Regression: ---\n",
      "\n",
      "\n",
      "Scores: [ -0.38015714  -4.79291691  -1.76555307 -12.42155674  -6.6512588\n",
      " -18.689299   -60.18366156  -1.48491309  -0.443357   -13.14869145]\n",
      "\n",
      "\n",
      "Mean score: -11.996136477223132\n",
      "Std score: 17.124099382625346\n",
      "\n",
      "\n",
      "--- Decision Tree Regressor: ---\n",
      "\n",
      "\n",
      "Scores: [ -0.471017    -8.76664908  -2.96604032 -14.99709468  -8.64770398\n",
      " -20.12832996 -66.87725722  -1.66493987  -2.02825259 -14.43852048]\n",
      "\n",
      "\n",
      "Mean score: -14.098580517290225\n",
      "Std score: 18.684065943698243\n"
     ]
    }
   ],
   "source": [
    "for name,regressor in regressors:\n",
    "    regressor=regressor\n",
    "    scores=cross_val_score(regressor,X,y,cv=10)\n",
    "    print('\\n')\n",
    "    print('---',name,'---')\n",
    "    print('\\n')\n",
    "    print('Scores:',scores)\n",
    "    print('\\n')\n",
    "    print('Mean score:',scores.mean())\n",
    "    print('Std score:',scores.std())"
   ]
  },
  {
   "cell_type": "code",
   "execution_count": 89,
   "metadata": {},
   "outputs": [],
   "source": [
    "from sklearn.model_selection import GridSearchCV"
   ]
  },
  {
   "cell_type": "code",
   "execution_count": 101,
   "metadata": {},
   "outputs": [],
   "source": [
    "param_grid={'max_depth': np.arange(1,21),\n",
    "                 'min_samples_leaf': [1, 5, 10, 20, 50, 100]}"
   ]
  },
  {
   "cell_type": "code",
   "execution_count": 102,
   "metadata": {},
   "outputs": [],
   "source": [
    "grid=GridSearchCV(DecisionTreeRegressor(),param_grid,cv=10)"
   ]
  },
  {
   "cell_type": "code",
   "execution_count": 104,
   "metadata": {},
   "outputs": [
    {
     "data": {
      "text/plain": [
       "GridSearchCV(cv=10, error_score=nan,\n",
       "             estimator=DecisionTreeRegressor(ccp_alpha=0.0, criterion='mse',\n",
       "                                             max_depth=None, max_features=None,\n",
       "                                             max_leaf_nodes=None,\n",
       "                                             min_impurity_decrease=0.0,\n",
       "                                             min_impurity_split=None,\n",
       "                                             min_samples_leaf=1,\n",
       "                                             min_samples_split=2,\n",
       "                                             min_weight_fraction_leaf=0.0,\n",
       "                                             presort='deprecated',\n",
       "                                             random_state=None,\n",
       "                                             splitter='best'),\n",
       "             iid='deprecated', n_jobs=None,\n",
       "             param_grid={'max_depth': array([ 1,  2,  3,  4,  5,  6,  7,  8,  9, 10, 11, 12, 13, 14, 15, 16, 17,\n",
       "       18, 19, 20]),\n",
       "                         'min_samples_leaf': [1, 5, 10, 20, 50, 100]},\n",
       "             pre_dispatch='2*n_jobs', refit=True, return_train_score=False,\n",
       "             scoring=None, verbose=0)"
      ]
     },
     "execution_count": 104,
     "metadata": {},
     "output_type": "execute_result"
    }
   ],
   "source": [
    "grid.fit(X_train,y_train)"
   ]
  },
  {
   "cell_type": "code",
   "execution_count": 107,
   "metadata": {},
   "outputs": [
    {
     "name": "stdout",
     "output_type": "stream",
     "text": [
      "Best Scores: 0.2922735816835685\n",
      "Best Params: {'max_depth': 8, 'min_samples_leaf': 50}\n"
     ]
    }
   ],
   "source": [
    "print('Best Scores:',grid.best_score_)\n",
    "print('Best Params:',grid.best_params_)"
   ]
  }
 ],
 "metadata": {
  "kernelspec": {
   "display_name": "Python 3",
   "language": "python",
   "name": "python3"
  },
  "language_info": {
   "codemirror_mode": {
    "name": "ipython",
    "version": 3
   },
   "file_extension": ".py",
   "mimetype": "text/x-python",
   "name": "python",
   "nbconvert_exporter": "python",
   "pygments_lexer": "ipython3",
   "version": "3.7.6"
  }
 },
 "nbformat": 4,
 "nbformat_minor": 2
}
